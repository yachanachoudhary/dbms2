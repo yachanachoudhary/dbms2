{
 "cells": [
  {
   "cell_type": "code",
   "execution_count": null,
   "id": "7c86907d",
   "metadata": {},
   "outputs": [],
   "source": [
    "#! pip install pymysql"
   ]
  },
  {
   "cell_type": "code",
   "execution_count": 16,
   "id": "f42ee917",
   "metadata": {},
   "outputs": [
    {
     "name": "stdout",
     "output_type": "stream",
     "text": [
      "Employee details:\n",
      "('John Doe', 'E001', 'Manager', datetime.date(2020, 6, 15), Decimal('70000.00'), 101)\n",
      "('Jane Smith', 'E002', 'Developer', datetime.date(2019, 9, 23), Decimal('60000.00'), 102)\n",
      "('Mike Johnson', 'E003', 'Analyst', datetime.date(2021, 2, 1), Decimal('50000.00'), 101)\n",
      "Employees whose salary is more than 60000:\n",
      "('John Doe', 'E001', 'Manager', datetime.date(2020, 6, 15), Decimal('70000.00'), 101)\n",
      "Number of employees in Department 101: 2\n",
      "MySQL connection is closed.\n"
     ]
    }
   ],
   "source": [
    "import pymysql\n",
    "\n",
    "try:\n",
    "    # Establish connection to MySQL database using pymysql\n",
    "    conn = pymysql.connect(\n",
    "        host=\"localhost\",\n",
    "        user=\"root\",\n",
    "        password=\"$rushti0801\",\n",
    "        database=\"mydb\"\n",
    "    )\n",
    "\n",
    "    # Create a Cursor object\n",
    "    if conn.open:\n",
    "        cursor = conn.cursor()\n",
    "\n",
    "        # SQL query to create the Employee table\n",
    "        create_table_query = \"\"\"\n",
    "        CREATE TABLE IF NOT EXISTS Emp (\n",
    "            Ename VARCHAR(100),\n",
    "            Empid VARCHAR(10) PRIMARY KEY,\n",
    "            Designation VARCHAR(50),\n",
    "            Hiredate DATE,\n",
    "            Salary DECIMAL(10, 2),\n",
    "            Dno INT\n",
    "        )\n",
    "        \"\"\"\n",
    "\n",
    "        # Execute the query to create the table\n",
    "        cursor.execute(create_table_query)\n",
    "\n",
    "        # Commit the changes\n",
    "        conn.commit()\n",
    "\n",
    "        # Insert data into the Employee table (using INSERT IGNORE to skip duplicates)\n",
    "        insert_query = \"\"\"\n",
    "            INSERT IGNORE INTO Emp (Ename, Empid, Designation, Hiredate, Salary, Dno)\n",
    "            VALUES (%s, %s, %s, %s, %s, %s)\n",
    "        \"\"\"\n",
    "\n",
    "        # Sample data to insert\n",
    "        employee_data = [\n",
    "            ('John Doe', 'E001', 'Manager', '2020-06-15', 70000, 101),\n",
    "            ('Jane Smith', 'E002', 'Developer', '2019-09-23', 60000, 102),\n",
    "            ('Mike Johnson', 'E003', 'Analyst', '2021-02-01', 50000, 101)\n",
    "        ]\n",
    "\n",
    "        # Insert each employee record\n",
    "        for employee in employee_data:\n",
    "            cursor.execute(insert_query, employee)\n",
    "\n",
    "        # Commit the transaction\n",
    "        conn.commit()\n",
    "\n",
    "        # Query to select all rows\n",
    "        select_query = \"SELECT * FROM Emp\"\n",
    "\n",
    "        # Execute the query\n",
    "        cursor.execute(select_query)\n",
    "\n",
    "        # Fetch all the results\n",
    "        result = cursor.fetchall()\n",
    "        print('Employee details:')\n",
    "        # Print the results\n",
    "        for row in result:\n",
    "            print(row)\n",
    "\n",
    "        # Query to filter employees with salary greater than 60000\n",
    "        filter_query = \"SELECT * FROM Emp WHERE Salary > 60000\"\n",
    "\n",
    "        # Execute the query\n",
    "        cursor.execute(filter_query)\n",
    "\n",
    "        # Fetch the results\n",
    "        result = cursor.fetchall()\n",
    "        print('Employees whose salary is more than 60000:')\n",
    "        # Print the results\n",
    "        for row in result:\n",
    "            print(row)\n",
    "\n",
    "        # Query to count employees in department 101\n",
    "        count_query = \"SELECT COUNT(*) FROM Emp WHERE Dno = 101\"\n",
    "\n",
    "        # Execute the query\n",
    "        cursor.execute(count_query)\n",
    "\n",
    "        # Fetch the result\n",
    "        result = cursor.fetchone()\n",
    "\n",
    "        # Print the count\n",
    "        print(\"Number of employees in Department 101:\", result[0])\n",
    "\n",
    "except pymysql.MySQLError as e:\n",
    "    print(f\"Error: '{e}'\")\n",
    "finally:\n",
    "    if conn.open:\n",
    "        cursor.close()\n",
    "        conn.close()\n",
    "        print(\"MySQL connection is closed.\")\n"
   ]
  },
  {
   "cell_type": "code",
   "execution_count": 19,
   "id": "42222af5",
   "metadata": {},
   "outputs": [
    {
     "name": "stdout",
     "output_type": "stream",
     "text": [
      "enter your namesru\n"
     ]
    },
    {
     "ename": "NameError",
     "evalue": "name 'f' is not defined",
     "output_type": "error",
     "traceback": [
      "\u001b[1;31m---------------------------------------------------------------------------\u001b[0m",
      "\u001b[1;31mNameError\u001b[0m                                 Traceback (most recent call last)",
      "Input \u001b[1;32mIn [19]\u001b[0m, in \u001b[0;36m<cell line: 2>\u001b[1;34m()\u001b[0m\n\u001b[0;32m      1\u001b[0m name\u001b[38;5;241m=\u001b[39m\u001b[38;5;28minput\u001b[39m(\u001b[38;5;124m\"\u001b[39m\u001b[38;5;124menter your name\u001b[39m\u001b[38;5;124m\"\u001b[39m)\n\u001b[1;32m----> 2\u001b[0m \u001b[38;5;28mprint\u001b[39m(\u001b[38;5;124m\"\u001b[39m\u001b[38;5;124mhi, my name is \u001b[39m\u001b[38;5;124m'\u001b[39m\u001b[38;5;124m'\u001b[39m\u001b[38;5;132;01m%s\u001b[39;00m\u001b[38;5;124m'\u001b[39m\u001b[38;5;124m\"\u001b[39m,\u001b[43mf\u001b[49m(name))\n",
      "\u001b[1;31mNameError\u001b[0m: name 'f' is not defined"
     ]
    }
   ],
   "source": [
    "name=input(\"enter your name\")\n",
    "print(\"hi, my name is ''%s'\",f(name))"
   ]
  },
  {
   "cell_type": "code",
   "execution_count": null,
   "id": "8e396b1d",
   "metadata": {},
   "outputs": [],
   "source": []
  }
 ],
 "metadata": {
  "kernelspec": {
   "display_name": "Python 3 (ipykernel)",
   "language": "python",
   "name": "python3"
  },
  "language_info": {
   "codemirror_mode": {
    "name": "ipython",
    "version": 3
   },
   "file_extension": ".py",
   "mimetype": "text/x-python",
   "name": "python",
   "nbconvert_exporter": "python",
   "pygments_lexer": "ipython3",
   "version": "3.9.12"
  }
 },
 "nbformat": 4,
 "nbformat_minor": 5
}
